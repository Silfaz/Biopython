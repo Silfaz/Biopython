{
 "cells": [
  {
   "cell_type": "markdown",
   "metadata": {},
   "source": [
    "# Global and local alignments with pairwise2\n",
    "\n",
    "https://towardsdatascience.com/pairwise-sequence-alignment-using-biopython-d1a9d0ba861f\n",
    "\n",
    "http://biopython.org/DIST/docs/api/Bio.pairwise2-module.html\n",
    "\n",
    "\n",
    "Let's try out some coding to simulate pairwise sequence alignment using Biopython. We will be using the pairwise2 module, which can be found in the Bio package.  \n",
    "\n",
    "pairwise2 provides functions to get global and local alignments between two sequences. A global alignment find the best concordance between all characters in two sequences. A local alignment finds just the subsequences that align the best. \n",
    "\n",
    "When doing alignments, you can specify the match score and gap penalties. The match score indicates the compatibility between an alignment of two characters in the sequences. Highly compatible characters should be given positive scores, and incompatible ones should be given a negative score or 0. The gap penalties should be negative. \n",
    "\n",
    "The names of the alignment functions follow the convention:\n",
    "`<alignment type>XX`\n",
    "\n",
    "where `<alignment type>` is either global or local and `XX` is a 2 character code indicating the parameters it takes. The first character indicates the parameters for matches (and mismatches), and the second indicates the parameters for gap penalties. \n",
    "\n",
    "The match parameters are:\n",
    "\n",
    "x = No parameters. Identical characters have score of 1, else 0.\n",
    "\n",
    "m = A match score is the score of identical chars, else mismatch score. \n",
    "\n",
    "d = A dictionary returns the score of any pair of characters.\n",
    "\n",
    "c = A callback function returns scores.\n",
    "\n",
    "\n",
    "\n",
    "The gap penalty parameters are:\n",
    "\n",
    "x = No gap penalties.\n",
    "\n",
    "s = Same open and extend gap penalties for both sequences.\n",
    "\n",
    "d = The sequences have different open and extend gap penalties.\n",
    "\n",
    "c = A callback function returns the gap penalties.\n"
   ]
  },
  {
   "cell_type": "markdown",
   "metadata": {},
   "source": [
    "## Example 1\n",
    "\n",
    "Consider two sequences given below. We want to find out all the possible global alignments with the maximum similarity score \n",
    "\n",
    "x = ACGGGT\n",
    "\n",
    "y = ACG\n"
   ]
  },
  {
   "cell_type": "code",
   "execution_count": 7,
   "metadata": {
    "collapsed": true
   },
   "outputs": [],
   "source": [
    "#Import pairwise2 module\n",
    "from Bio import pairwise2\n",
    "\n",
    "#Import format_alignment method\n",
    "from Bio.pairwise2 import format_alignment"
   ]
  },
  {
   "cell_type": "code",
   "execution_count": 8,
   "metadata": {
    "collapsed": true
   },
   "outputs": [],
   "source": [
    "#Define two sequences to be aligned\n",
    "x = \"ACGGGT\"\n",
    "y = \"ACG\"\n"
   ]
  },
  {
   "cell_type": "code",
   "execution_count": 14,
   "metadata": {},
   "outputs": [],
   "source": [
    "#Get a list of the global alignments between the two sequences ACGGGT and ACG\n",
    "#No parameters. Identical characters have score of 1, else 0.\n",
    "#No gap penalties.\n",
    "\n",
    "alignments = pairwise2.align.globalxx(x, y)"
   ]
  },
  {
   "cell_type": "code",
   "execution_count": 11,
   "metadata": {},
   "outputs": [
    {
     "name": "stdout",
     "output_type": "stream",
     "text": [
      "ACGGGT\n",
      "||  | \n",
      "AC--G-\n",
      "  Score=3\n",
      "\n",
      "ACGGGT\n",
      "|| |  \n",
      "AC-G--\n",
      "  Score=3\n",
      "\n",
      "ACGGGT\n",
      "|||   \n",
      "ACG---\n",
      "  Score=3\n",
      "\n"
     ]
    }
   ],
   "source": [
    "#Use format_alignment method to format the alignments in the list\n",
    "for a in alignments:\n",
    "    print (format_alignment(*a))"
   ]
  },
  {
   "cell_type": "markdown",
   "metadata": {},
   "source": [
    "In this example, matching characters have been given 1 point. No points have been deducted for mismatches or gaps."
   ]
  },
  {
   "cell_type": "markdown",
   "metadata": {},
   "source": [
    "## Example 2\n",
    "\n",
    "Consider the two sequences given in the previous example. We want to find out all the possible local alignments with the maximum similarity score. "
   ]
  },
  {
   "cell_type": "code",
   "execution_count": 15,
   "metadata": {},
   "outputs": [
    {
     "name": "stdout",
     "output_type": "stream",
     "text": [
      "ACGGGT\n",
      "||  |\n",
      "AC--G-\n",
      "  Score=3\n",
      "\n",
      "ACGGGT\n",
      "|| |\n",
      "AC-G--\n",
      "  Score=3\n",
      "\n",
      "ACGGGT\n",
      "|||\n",
      "ACG---\n",
      "  Score=3\n",
      "\n"
     ]
    }
   ],
   "source": [
    "alignmentslocal = pairwise2.align.localxx(x, y)\n",
    "\n",
    "for a in alignmentslocal:\n",
    "    print (format_alignment(*a))"
   ]
  },
  {
   "cell_type": "markdown",
   "metadata": {},
   "source": [
    "Again, the matching characters have been given 1 point. No points have been deducted for mismatches or gaps."
   ]
  },
  {
   "cell_type": "markdown",
   "metadata": {},
   "source": [
    "## Example 3\n",
    "\n",
    "Now we're going to change the scoring scheme and assign values for matches, mismatches and gaps. We will be considering the same two sequences as before. We want to find all the possible global alignments with the maximum similarity score. \n",
    "\n",
    "Matching characters are given 2 points, 1 point is deducted for each mismatching character. 0.5 points are deducted when opening a gap, and 0.1 points are deducted when extending it."
   ]
  },
  {
   "cell_type": "code",
   "execution_count": 17,
   "metadata": {},
   "outputs": [
    {
     "name": "stdout",
     "output_type": "stream",
     "text": [
      "ACGGGT\n",
      "|||   \n",
      "ACG---\n",
      "  Score=5.3\n",
      "\n"
     ]
    }
   ],
   "source": [
    "alignmentsglobal = pairwise2.align.globalms(x, y, 2, -1, -0.5, -0.1)\n",
    "# 2 = score for identical characters\n",
    "# -1 = score for non-identical characters\n",
    "# -0.5 = score for gap opening\n",
    "# -0.1 = score for gap extension\n",
    "\n",
    "for a in alignmentsglobal:\n",
    "    print (format_alignment(*a))"
   ]
  }
 ],
 "metadata": {
  "kernelspec": {
   "display_name": "Python 3",
   "language": "python",
   "name": "python3"
  },
  "language_info": {
   "codemirror_mode": {
    "name": "ipython",
    "version": 3
   },
   "file_extension": ".py",
   "mimetype": "text/x-python",
   "name": "python",
   "nbconvert_exporter": "python",
   "pygments_lexer": "ipython3",
   "version": "3.6.3"
  }
 },
 "nbformat": 4,
 "nbformat_minor": 2
}
